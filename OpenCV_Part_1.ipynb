{
  "nbformat": 4,
  "nbformat_minor": 0,
  "metadata": {
    "kernelspec": {
      "display_name": "Python 3",
      "language": "python",
      "name": "python3"
    },
    "language_info": {
      "codemirror_mode": {
        "name": "ipython",
        "version": 3
      },
      "file_extension": ".py",
      "mimetype": "text/x-python",
      "name": "python",
      "nbconvert_exporter": "python",
      "pygments_lexer": "ipython3",
      "version": "3.8.5"
    },
    "colab": {
      "name": "OpenCV - Part 1.ipynb",
      "provenance": [],
      "toc_visible": true,
      "include_colab_link": true
    }
  },
  "cells": [
    {
      "cell_type": "markdown",
      "metadata": {
        "id": "view-in-github",
        "colab_type": "text"
      },
      "source": [
        "<a href=\"https://colab.research.google.com/github/muhamad-rizal/PraktikumCV-01/blob/main/OpenCV_Part_1.ipynb\" target=\"_parent\"><img src=\"https://colab.research.google.com/assets/colab-badge.svg\" alt=\"Open In Colab\"/></a>"
      ]
    },
    {
      "cell_type": "markdown",
      "metadata": {
        "id": "K-rIeGkJj6iN"
      },
      "source": [
        "## Jupyter Lab Shortcut"
      ]
    },
    {
      "cell_type": "markdown",
      "metadata": {
        "id": "ChJgjUdxj6iS"
      },
      "source": [
        "- **ESC** : masuk ke Command Mode\n",
        "- **ENTER** : masuk ke Cell Mode\n",
        "- **ESC** + **A**  : Menambahkan cell ke atas\n",
        "- **ESC** + **B** : Menambahkan cell ke bawah\n",
        "- **ESC** + **D D** : Delete cell terpilih\n",
        "- **CTRL** + **B** : Show hide left panel\n",
        "- **SHIFT** + **M** : Merge selected cell\n",
        "- **CTRL** + **SHIFT** + **–** : Split cell from cursor position\n",
        "- **SHIFT** + **DOWN** : Select multiple cell (downward direction)\n",
        "- **SHIFT** + **UP** : Select multiple cell (Upward direction)\n",
        "- **CTRL** + **/** : Commenting or uncommenting"
      ]
    },
    {
      "cell_type": "markdown",
      "metadata": {
        "id": "33EU-u8ej6iT"
      },
      "source": [
        "___\n",
        "# OpenCV\n",
        "<img src=\"resource/opencv.png\" style=\"width: 100px; \"></img>\n",
        "\n",
        "*Open Source Computer Vision Library* | an open source computer vision and machine learning software library."
      ]
    },
    {
      "cell_type": "markdown",
      "metadata": {
        "id": "66FKSNvWj6iU"
      },
      "source": [
        "**History | 20 Tahun  Library OpenCV**\n",
        "- Dirilis pertama kali oleh **Intel** pada tahun 1999\n",
        "- Versi alpha rilis secara public di *IEEE Conference on Computer Vision and Pattern Recognition* pada tahun 2000 \n",
        "- Versi 1.0 rilis pada tahun 2006 (C support) [(link)](https://opencv.org/anniversary/20/?p=366)\n",
        "- Versi 1.1 \"pre-release\" rilis tahun 2008\n",
        "- Development diserahkan kepada **Willow Garage** dan **Itseez** (*leading developer of OpenCV*) pada tahun 2008 [(link)](https://opencv.org/anniversary/20/?p=59)\n",
        "- **OpenCV 2**  (major update,  C++ support & Python Binding) rilis Oktober 2009 [(link)](https://opencv.org/anniversary/20/?p=145)\n",
        "- Pada tahun 2012 OpenCV di ambil alih oleh non-profit foundation **OpenCV.org** dan OpenCV mirasi ke **Github** [(link)](https://opencv.org/anniversary/20/?p=147)\n",
        "- **OpenCV 3.0**  release Juni 2015 (interface improvements, T-API – an OpenCL-based acceleration) [(link) ](https://opencv.org/anniversary/20/?p=150)\n",
        "- Pada tahun 2016 Intel mengakuisisi **Itseez**, sehingga OpenCV kembali dibawah **Intel** [(link)](https://opencv.org/anniversary/20/?p=152)\n",
        "- Akhir 2016 OpenCV merilis DNN module and JavaScript (**OpenCV.js**) support (OpenCV >= 3.3) [(link)](https://opencv.org/anniversary/20/?paged=2&cat=6)\n",
        "- Tahun 2018, Intel merilis **OpenVINO toolkit**, yang dapat digunakan sebagai backend OpenCV DNN [(link)](https://opencv.org/anniversary/20/?p=158) \n",
        "- **OpenCV 4.0**  release (C++11, Vulkan backend, etc.) Nov 2018\n",
        "- **OpenCV 4.4**  release Juli 2020\n",
        "- OpenCV merilis **OAK: Spatial AI Powered** pada Juli 2020\n",
        "\n",
        "<img src=\"resource/oak.jpg\" style=\"width: 500px; \"></img>"
      ]
    },
    {
      "cell_type": "code",
      "metadata": {
        "id": "o0f8vNzPj6iY"
      },
      "source": [
        ""
      ],
      "execution_count": null,
      "outputs": []
    },
    {
      "cell_type": "markdown",
      "metadata": {
        "id": "kiwqMAVkj6ig"
      },
      "source": [
        "**Support**\n",
        "- Programming Language : C++, Python, Java, MATLAB, etc.\n",
        "- Operating Systems : Windows, Linux, Android and Mac OS\n",
        "- Hardware Acceleration : CUDA (NVIDIA) & OpenCL"
      ]
    },
    {
      "cell_type": "markdown",
      "metadata": {
        "id": "zf8M-DTTj6ik"
      },
      "source": [
        "### OpenCV \n",
        "- Access Individual pixel \n",
        "- Read, Show, & Save Image\n",
        "- Read, Show, & Save Video\n",
        "- Capture photo from camera\n",
        "- Capture video from camera\n",
        "\n",
        "___"
      ]
    },
    {
      "cell_type": "code",
      "metadata": {
        "id": "69c0Cv8cj6im"
      },
      "source": [
        "import cv2"
      ],
      "execution_count": 1,
      "outputs": []
    },
    {
      "cell_type": "code",
      "metadata": {
        "id": "sZv2dGkLj6is",
        "outputId": "aa1ffd03-aebe-4111-a279-9f923d05ff92",
        "colab": {
          "base_uri": "https://localhost:8080/",
          "height": 35
        }
      },
      "source": [
        "cv2.__version__"
      ],
      "execution_count": 2,
      "outputs": [
        {
          "output_type": "execute_result",
          "data": {
            "application/vnd.google.colaboratory.intrinsic+json": {
              "type": "string"
            },
            "text/plain": [
              "'4.1.2'"
            ]
          },
          "metadata": {
            "tags": []
          },
          "execution_count": 2
        }
      ]
    },
    {
      "cell_type": "code",
      "metadata": {
        "id": "5tMsCfopj6i1",
        "outputId": "cdb1f7db-99ef-4ab2-b724-5003f99e6e41",
        "colab": {
          "base_uri": "https://localhost:8080/",
          "height": 35
        }
      },
      "source": [
        "cv2.__file__"
      ],
      "execution_count": 3,
      "outputs": [
        {
          "output_type": "execute_result",
          "data": {
            "application/vnd.google.colaboratory.intrinsic+json": {
              "type": "string"
            },
            "text/plain": [
              "'/usr/local/lib/python3.6/dist-packages/cv2/cv2.cpython-36m-x86_64-linux-gnu.so'"
            ]
          },
          "metadata": {
            "tags": []
          },
          "execution_count": 3
        }
      ]
    },
    {
      "cell_type": "markdown",
      "metadata": {
        "id": "CFDnyq3Nj6jF"
      },
      "source": [
        "### Read Image"
      ]
    },
    {
      "cell_type": "code",
      "metadata": {
        "id": "warw68J0j6jH"
      },
      "source": [
        "img = cv2.imread(\"lena.jpg\")"
      ],
      "execution_count": 4,
      "outputs": []
    },
    {
      "cell_type": "markdown",
      "metadata": {
        "id": "-vlAzDrlj6jO"
      },
      "source": [
        "### Image Matrix "
      ]
    },
    {
      "cell_type": "code",
      "metadata": {
        "id": "fYT_zLxHj6jP"
      },
      "source": [
        "img.shape"
      ],
      "execution_count": null,
      "outputs": []
    },
    {
      "cell_type": "code",
      "metadata": {
        "id": "R59mMw3tj6jc"
      },
      "source": [
        "h, w, c = img.shape"
      ],
      "execution_count": null,
      "outputs": []
    },
    {
      "cell_type": "code",
      "metadata": {
        "id": "sgq3JrUOj6jh",
        "outputId": "7bd98564-016e-4120-9a6e-f07e153e8765"
      },
      "source": [
        "h, w, c"
      ],
      "execution_count": null,
      "outputs": [
        {
          "output_type": "execute_result",
          "data": {
            "text/plain": [
              "(344, 354, 3)"
            ]
          },
          "metadata": {
            "tags": []
          },
          "execution_count": 7
        }
      ]
    },
    {
      "cell_type": "code",
      "metadata": {
        "id": "Vy6_D4K5j6js",
        "outputId": "28b242a7-89eb-44dc-cc83-8190b58deb9e"
      },
      "source": [
        "h*w"
      ],
      "execution_count": null,
      "outputs": [
        {
          "output_type": "execute_result",
          "data": {
            "text/plain": [
              "121776"
            ]
          },
          "metadata": {
            "tags": []
          },
          "execution_count": 8
        }
      ]
    },
    {
      "cell_type": "code",
      "metadata": {
        "id": "f3WNrUV_j6jx",
        "outputId": "4a3dc3cc-7bed-4218-8ee7-957d6714fe1c"
      },
      "source": [
        "img.nbytes #in Bytes"
      ],
      "execution_count": null,
      "outputs": [
        {
          "output_type": "execute_result",
          "data": {
            "text/plain": [
              "365328"
            ]
          },
          "metadata": {
            "tags": []
          },
          "execution_count": 9
        }
      ]
    },
    {
      "cell_type": "code",
      "metadata": {
        "id": "YabsyneBj6j8",
        "outputId": "c5e0bee7-8814-4eac-cf57-955dcf73e4ad"
      },
      "source": [
        "img.nbytes/1024 #in kB"
      ],
      "execution_count": null,
      "outputs": [
        {
          "output_type": "execute_result",
          "data": {
            "text/plain": [
              "356.765625"
            ]
          },
          "metadata": {
            "tags": []
          },
          "execution_count": 10
        }
      ]
    },
    {
      "cell_type": "code",
      "metadata": {
        "id": "avcJ4y6qj6kB",
        "outputId": "f5f3c752-7794-415d-9310-dcf6e1e52bbe"
      },
      "source": [
        "img.ndim #3D"
      ],
      "execution_count": null,
      "outputs": [
        {
          "output_type": "execute_result",
          "data": {
            "text/plain": [
              "3"
            ]
          },
          "metadata": {
            "tags": []
          },
          "execution_count": 11
        }
      ]
    },
    {
      "cell_type": "code",
      "metadata": {
        "id": "-nxZ4JzTj6kJ",
        "outputId": "7b08c75b-d744-45e2-fe91-20f2ee53f89f"
      },
      "source": [
        "img.min()"
      ],
      "execution_count": null,
      "outputs": [
        {
          "output_type": "execute_result",
          "data": {
            "text/plain": [
              "0"
            ]
          },
          "metadata": {
            "tags": []
          },
          "execution_count": 29
        }
      ]
    },
    {
      "cell_type": "code",
      "metadata": {
        "id": "iHzDor06j6kP",
        "outputId": "afeb6084-7df4-4e86-e6b9-73f2b8a82ca9"
      },
      "source": [
        "img.max()"
      ],
      "execution_count": null,
      "outputs": [
        {
          "output_type": "execute_result",
          "data": {
            "text/plain": [
              "255"
            ]
          },
          "metadata": {
            "tags": []
          },
          "execution_count": 30
        }
      ]
    },
    {
      "cell_type": "code",
      "metadata": {
        "id": "vi_lJAvej6kb",
        "outputId": "aa9df809-81d0-4101-9398-f04757ed2339"
      },
      "source": [
        "img.size # n pixel"
      ],
      "execution_count": null,
      "outputs": [
        {
          "output_type": "execute_result",
          "data": {
            "text/plain": [
              "365328"
            ]
          },
          "metadata": {
            "tags": []
          },
          "execution_count": 31
        }
      ]
    },
    {
      "cell_type": "code",
      "metadata": {
        "id": "ivgEgtkUj6kg",
        "outputId": "1c2182eb-eff5-4b58-9010-d94a25cb9269"
      },
      "source": [
        "h*w*c # n pixel"
      ],
      "execution_count": null,
      "outputs": [
        {
          "output_type": "execute_result",
          "data": {
            "text/plain": [
              "365328"
            ]
          },
          "metadata": {
            "tags": []
          },
          "execution_count": 32
        }
      ]
    },
    {
      "cell_type": "markdown",
      "metadata": {
        "id": "ntvoXUfuj6kq"
      },
      "source": [
        "### Access Image Channel"
      ]
    },
    {
      "cell_type": "code",
      "metadata": {
        "id": "amIky5sHj6ks",
        "outputId": "8e688389-c056-49d7-bfdb-757c8af35d79"
      },
      "source": [
        "img[:, :, 0].shape # layer 0 (Blue)"
      ],
      "execution_count": null,
      "outputs": [
        {
          "output_type": "execute_result",
          "data": {
            "text/plain": [
              "(344, 354)"
            ]
          },
          "metadata": {
            "tags": []
          },
          "execution_count": 33
        }
      ]
    },
    {
      "cell_type": "code",
      "metadata": {
        "id": "8Fvq9Eugj6ky",
        "outputId": "b570f60f-5af1-4660-8785-1067feaebc2d"
      },
      "source": [
        "img[:, :, 1].shape # layer 1 (Green)"
      ],
      "execution_count": null,
      "outputs": [
        {
          "output_type": "execute_result",
          "data": {
            "text/plain": [
              "(344, 354)"
            ]
          },
          "metadata": {
            "tags": []
          },
          "execution_count": 12
        }
      ]
    },
    {
      "cell_type": "code",
      "metadata": {
        "id": "6gQFevaQj6k4",
        "outputId": "7973875e-d238-4aec-c271-3a0a11e33470"
      },
      "source": [
        "img[:, :, 2].shape # layer 2 (Red)"
      ],
      "execution_count": null,
      "outputs": [
        {
          "output_type": "execute_result",
          "data": {
            "text/plain": [
              "(344, 354)"
            ]
          },
          "metadata": {
            "tags": []
          },
          "execution_count": 35
        }
      ]
    },
    {
      "cell_type": "markdown",
      "metadata": {
        "id": "H29wcKrij6k8"
      },
      "source": [
        "### Access Individual pixel"
      ]
    },
    {
      "cell_type": "code",
      "metadata": {
        "id": "Kmf3uGkKj6k9",
        "outputId": "42508894-25ea-4cda-a781-902f499e20d4"
      },
      "source": [
        "img[0, 0]"
      ],
      "execution_count": null,
      "outputs": [
        {
          "output_type": "execute_result",
          "data": {
            "text/plain": [
              "array([ 82,  73, 183], dtype=uint8)"
            ]
          },
          "metadata": {
            "tags": []
          },
          "execution_count": 13
        }
      ]
    },
    {
      "cell_type": "code",
      "metadata": {
        "id": "A2nzkEItj6lB",
        "outputId": "062678eb-a505-4118-b73c-120f540ede6b"
      },
      "source": [
        "(B, G, R) = img[200, 200]\n",
        "\n",
        "print(\"R=%d, G=%d, B=%d\" % (R, G, B))"
      ],
      "execution_count": null,
      "outputs": [
        {
          "output_type": "stream",
          "text": [
            "R=221, G=118, B=119\n"
          ],
          "name": "stdout"
        }
      ]
    },
    {
      "cell_type": "code",
      "metadata": {
        "id": "3V2c-Q5Oj6lH"
      },
      "source": [
        ""
      ],
      "execution_count": null,
      "outputs": []
    },
    {
      "cell_type": "markdown",
      "metadata": {
        "id": "WHA3kOqsj6lP"
      },
      "source": [
        "### Read & Display Image"
      ]
    },
    {
      "cell_type": "code",
      "metadata": {
        "id": "rIJ7KwRKj6lQ"
      },
      "source": [
        "import cv2"
      ],
      "execution_count": null,
      "outputs": []
    },
    {
      "cell_type": "code",
      "metadata": {
        "id": "2J6FtRauj6lZ"
      },
      "source": [
        "# read image\n",
        "img = cv2.imread('lena.jpg')"
      ],
      "execution_count": null,
      "outputs": []
    },
    {
      "cell_type": "markdown",
      "metadata": {
        "id": "PpX6vOtpj6lh"
      },
      "source": [
        "- Menggunkan GUI OpenCV"
      ]
    },
    {
      "cell_type": "code",
      "metadata": {
        "id": "zcZjdQgBj6li"
      },
      "source": [
        "# show image\n",
        "cv2.imshow('lena.jpg',img)\n",
        "cv2.waitKey(0) #display the window infinitely until any keypress\n",
        "cv2.destroyAllWindows()"
      ],
      "execution_count": null,
      "outputs": []
    },
    {
      "cell_type": "code",
      "metadata": {
        "id": "dpAq3Ha0j6lm",
        "outputId": "fce6b306-35d3-40c4-b962-19e3e94db8ab"
      },
      "source": [
        "chr(113)"
      ],
      "execution_count": null,
      "outputs": [
        {
          "output_type": "execute_result",
          "data": {
            "text/plain": [
              "'q'"
            ]
          },
          "metadata": {
            "tags": []
          },
          "execution_count": 17
        }
      ]
    },
    {
      "cell_type": "code",
      "metadata": {
        "id": "aQ-JEgzMj6lr"
      },
      "source": [
        "cv2.destroyAllWindows()"
      ],
      "execution_count": null,
      "outputs": []
    },
    {
      "cell_type": "code",
      "metadata": {
        "id": "B6XAFPutj6lv"
      },
      "source": [
        "cv2.imshow('lena.jpg',img)\n",
        "res = cv2.waitKey(6000) # display the window for 6000 ms (6 s), \n",
        "                        # if any keypress detected before 6 s, \n",
        "                        # the window will be closed. \n",
        "print(res)\n",
        "cv2.destroyAllWindows()"
      ],
      "execution_count": null,
      "outputs": []
    },
    {
      "cell_type": "code",
      "metadata": {
        "id": "lBj3FG4Xj6l4",
        "outputId": "fe879cec-1aef-42c8-901f-e42e48421480"
      },
      "source": [
        "# show image\n",
        "cv2.imshow('lena.jpg',img)\n",
        "res = cv2.waitKey(4000)\n",
        "print('You pressed : %s' % chr(res) if res >=0 and res <= 127 else '<unknown>')\n",
        "cv2.destroyAllWindows()"
      ],
      "execution_count": null,
      "outputs": [
        {
          "output_type": "stream",
          "text": [
            "<unknown>\n"
          ],
          "name": "stdout"
        }
      ]
    },
    {
      "cell_type": "markdown",
      "metadata": {
        "id": "us7IM8inj6l-"
      },
      "source": [
        "___"
      ]
    },
    {
      "cell_type": "markdown",
      "metadata": {
        "id": "UFrSnZWqj6l-"
      },
      "source": [
        "## Save Image "
      ]
    },
    {
      "cell_type": "code",
      "metadata": {
        "id": "_e2MOVXYj6l_",
        "outputId": "44521675-d566-4c71-c392-d76b03191568"
      },
      "source": [
        "# show image\n",
        "cv2.imwrite('saved_lena.jpg', img)"
      ],
      "execution_count": null,
      "outputs": [
        {
          "output_type": "execute_result",
          "data": {
            "text/plain": [
              "True"
            ]
          },
          "metadata": {
            "tags": []
          },
          "execution_count": 9
        }
      ]
    },
    {
      "cell_type": "markdown",
      "metadata": {
        "id": "_YGXSWtzj6mD"
      },
      "source": [
        "### Play Video"
      ]
    },
    {
      "cell_type": "code",
      "metadata": {
        "id": "twJrseo6j6mE",
        "outputId": "23c5a1f5-f493-44d3-d50c-e7bf97ad2e3b"
      },
      "source": [
        "# load video\n",
        "cap = cv2.VideoCapture('video.mp4')\n",
        "\n",
        "# iterate for each frame in video\n",
        "while cap.isOpened():\n",
        "    \n",
        "    # get image on each frame\n",
        "    ret, frame = cap.read()\n",
        "\n",
        "    # show image\n",
        "    cv2.imshow('Frame',frame)\n",
        "\n",
        "    # wait 25ms per frame and close using 'q' \n",
        "    if cv2.waitKey(25) == ord('q'):\n",
        "          break\n",
        "\n",
        "#close video\n",
        "cap.release()\n",
        "#close window\n",
        "cv2.destroyAllWindows()"
      ],
      "execution_count": null,
      "outputs": [
        {
          "output_type": "error",
          "ename": "error",
          "evalue": "OpenCV(4.0.1) C:\\ci\\opencv-suite_1573470242804\\work\\modules\\highgui\\src\\window.cpp:352: error: (-215:Assertion failed) size.width>0 && size.height>0 in function 'cv::imshow'\n",
          "traceback": [
            "\u001b[1;31m---------------------------------------------------------------------------\u001b[0m",
            "\u001b[1;31merror\u001b[0m                                     Traceback (most recent call last)",
            "\u001b[1;32m<ipython-input-11-ad9135d97a17>\u001b[0m in \u001b[0;36m<module>\u001b[1;34m\u001b[0m\n\u001b[0;32m      9\u001b[0m \u001b[1;33m\u001b[0m\u001b[0m\n\u001b[0;32m     10\u001b[0m     \u001b[1;31m# show image\u001b[0m\u001b[1;33m\u001b[0m\u001b[1;33m\u001b[0m\u001b[1;33m\u001b[0m\u001b[0m\n\u001b[1;32m---> 11\u001b[1;33m     \u001b[0mcv2\u001b[0m\u001b[1;33m.\u001b[0m\u001b[0mimshow\u001b[0m\u001b[1;33m(\u001b[0m\u001b[1;34m'Frame'\u001b[0m\u001b[1;33m,\u001b[0m\u001b[0mframe\u001b[0m\u001b[1;33m)\u001b[0m\u001b[1;33m\u001b[0m\u001b[1;33m\u001b[0m\u001b[0m\n\u001b[0m\u001b[0;32m     12\u001b[0m \u001b[1;33m\u001b[0m\u001b[0m\n\u001b[0;32m     13\u001b[0m     \u001b[1;31m# wait 25ms per frame and close using 'q'\u001b[0m\u001b[1;33m\u001b[0m\u001b[1;33m\u001b[0m\u001b[1;33m\u001b[0m\u001b[0m\n",
            "\u001b[1;31merror\u001b[0m: OpenCV(4.0.1) C:\\ci\\opencv-suite_1573470242804\\work\\modules\\highgui\\src\\window.cpp:352: error: (-215:Assertion failed) size.width>0 && size.height>0 in function 'cv::imshow'\n"
          ]
        }
      ]
    },
    {
      "cell_type": "code",
      "metadata": {
        "id": "AFz9ZDYnj6mM"
      },
      "source": [
        "#close video\n",
        "cap.release()\n",
        "#close window\n",
        "cv2.destroyAllWindows()"
      ],
      "execution_count": null,
      "outputs": []
    },
    {
      "cell_type": "code",
      "metadata": {
        "id": "4b3j8nvwj6mR"
      },
      "source": [
        "\n",
        "# load video\n",
        "cap = cv2.VideoCapture('video.mp4')\n",
        "           \n",
        "# iterate for each frame in video\n",
        "while cap.isOpened():\n",
        "    \n",
        "    # get image on each frame\n",
        "    ret, frame = cap.read()\n",
        "    if ret == True:\n",
        "        \n",
        "        # show image\n",
        "        cv2.imshow('Frame',frame)\n",
        "        \n",
        "        # wait 25ms per frame and close using 'q' \n",
        "        if cv2.waitKey(25) == ord('q'):\n",
        "              break\n",
        "        if cv2.waitKey(25) == ord('s'):\n",
        "            cv2.imwrite(\"foto_from_video.jpg\", frame)\n",
        "            print(\"foto captured!\")\n",
        "    else: \n",
        "        break\n",
        "\n",
        "#close video\n",
        "cap.release()\n",
        "#close window\n",
        "cv2.destroyAllWindows()"
      ],
      "execution_count": null,
      "outputs": []
    },
    {
      "cell_type": "markdown",
      "metadata": {
        "id": "Zejh9eO3j6mX"
      },
      "source": [
        "### Capture Photo"
      ]
    },
    {
      "cell_type": "code",
      "metadata": {
        "id": "Fr0cwZf4j6mY"
      },
      "source": [
        "cap = cv2.VideoCapture(0)\n",
        "ret, frame = cap.read()\n",
        "\n",
        "if ret :\n",
        "    cv2.imwrite(\"my_photo_kuz.jpg\", frame)\n",
        "else :\n",
        "    print(\"can't save photo\")\n",
        "    \n",
        "#close video\n",
        "cap.release()"
      ],
      "execution_count": null,
      "outputs": []
    },
    {
      "cell_type": "code",
      "metadata": {
        "id": "2bacG14Gj6mi"
      },
      "source": [
        ""
      ],
      "execution_count": null,
      "outputs": []
    },
    {
      "cell_type": "markdown",
      "metadata": {
        "id": "HRmlRkzyj6mm"
      },
      "source": [
        "### Capture Video"
      ]
    },
    {
      "cell_type": "code",
      "metadata": {
        "id": "6mBzDIldj6mn"
      },
      "source": [
        "cap = cv2.VideoCapture(0)\n",
        "\n",
        "cap.set(cv2.CAP_PROP_FRAME_WIDTH, 320)\n",
        "cap.set(cv2.CAP_PROP_FRAME_HEIGHT, 240)\n",
        "\n",
        "# Define the codec and create VideoWriter object\n",
        "# fourcc is a 4-byte code used to specify the video codec\n",
        "fourcc = cv2.VideoWriter_fourcc(*'MP4V') \n",
        "\n",
        "out = cv2.VideoWriter('output_2.mp4',fourcc, 20, (320,240)) # name, fourcc, fps, size\n",
        "\n",
        "cv2.VideoWriter\n",
        "while(cap.isOpened()):\n",
        "    ret, frame = cap.read()\n",
        "    if ret:\n",
        "\n",
        "        # write the flipped frame\n",
        "        out.write(frame)\n",
        "\n",
        "        cv2.imshow('frame',frame)\n",
        "        key = cv2.waitKey(1) \n",
        "        if key == ord('q'):\n",
        "            break\n",
        "        if key == ord('s'):\n",
        "            cv2.imwrite(\"foto_from_video.jpg\", frame)\n",
        "            print(\"foto captured!\")\n",
        "    else:\n",
        "        break\n",
        "\n",
        "# Release everything if job is finished\n",
        "cap.release()\n",
        "out.release()\n",
        "cv2.destroyAllWindows()"
      ],
      "execution_count": null,
      "outputs": []
    },
    {
      "cell_type": "code",
      "metadata": {
        "id": "89ujCGWmj6mu"
      },
      "source": [
        "cap.release()\n",
        "out.release()\n",
        "cv2.destroyAllWindows()"
      ],
      "execution_count": null,
      "outputs": []
    }
  ]
}